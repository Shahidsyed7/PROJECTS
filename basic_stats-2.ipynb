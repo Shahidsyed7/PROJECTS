{
 "cells": [
  {
   "cell_type": "markdown",
   "id": "87f7f828-424e-4e0a-83b9-caf2234cf656",
   "metadata": {},
   "source": [
    "Background:\n",
    "In quality control processes, especially when dealing with high-value items, destructive sampling is a necessary but costly method to ensure product quality. The test to determine whether an item meets the quality standards destroys the item, leading to the requirement of small sample sizes due to cost constraints.\n",
    "Scenario:\n",
    "A manufacturer of print-heads for personal computers is interested in estimating the mean durability of their print-heads in terms of the number of characters printed before failure. To assess this, the manufacturer conducts a study on a small sample of print-heads due to the destructive nature of the testing process.\n",
    "Data:\n",
    "A total of 15 print-heads were randomly selected and tested until failure. The durability of each print-head (in millions of characters) was recorded as follows:\n",
    "1.13, 1.55, 1.43, 0.92, 1.25, 1.36, 1.32, 0.85, 1.07, 1.48, 1.20, 1.33, 1.18, 1.22, 1.29\n",
    "Assignment Tasks:\n",
    "a. Build 99% Confidence Interval Using Sample Standard Deviation\n",
    "Assuming the sample is representative of the population, construct a 99% confidence interval for the mean number of characters printed before the print-head fails using the sample standard deviation. Explain the steps you take and the rationale behind using the t-distribution for this task.\n",
    "b. Build 99% Confidence Interval Using Known Population Standard Deviation\n",
    "If it were known that the population standard deviation is 0.2 million characters, construct a 99% confidence interval for the mean number of characters printed before failure."
   ]
  },
  {
   "cell_type": "code",
   "execution_count": 12,
   "id": "71a8ecd5-35a1-4d91-87de-278cf5fa514f",
   "metadata": {},
   "outputs": [
    {
     "name": "stdout",
     "output_type": "stream",
     "text": [
      "1.0901973384384906 1.3871359948948425\n"
     ]
    }
   ],
   "source": [
    "import numpy as np\n",
    "import scipy.stats as stats\n",
    "\n",
    "data = [1.13, 1.55, 1.43, 0.92, 1.25, 1.36, 1.32, 0.85, 1.07, 1.48, \n",
    "        1.20, 1.33, 1.18, 1.22, 1.29]\n",
    "\n",
    "#a: 99% Confidence Interval using Sample Standard Deviation\n",
    "n = len(data)\n",
    "mean = np.mean(data)\n",
    "sample_std = np.std(data, ddof=1)\n",
    "\n",
    "# t-value for 99% confidence interval\n",
    "confidence_level = 0.99\n",
    "alpha = 1 - confidence_level\n",
    "t_critical = stats.t.ppf(1 - alpha / 2, df=n - 1)\n",
    "\n",
    "# Confidence Interval\n",
    "margin_of_error = t_critical * (sample_std / np.sqrt(n))\n",
    "ci_lower = mean - margin_of_error\n",
    "ci_upper = mean + margin_of_error\n",
    "\n",
    "print(ci_lower,ci_upper)"
   ]
  },
  {
   "cell_type": "code",
   "execution_count": 16,
   "id": "d65db234-1fe9-4b13-a91a-17c2e2c81f7a",
   "metadata": {},
   "outputs": [
    {
     "name": "stdout",
     "output_type": "stream",
     "text": [
      "1.1056514133957607 1.3716819199375725\n"
     ]
    }
   ],
   "source": [
    "#b: 99% Confidence Interval using Known Population Standard Deviation\n",
    "population_std = 0.2\n",
    "\n",
    "# z-value for 99% confidence interval\n",
    "z_critical = stats.norm.ppf(1 - alpha / 2)\n",
    "#CI\n",
    "margin_of_error_population = z_critical * (population_std / np.sqrt(n))\n",
    "ci_lower_population = mean - margin_of_error_population\n",
    "ci_upper_population = mean + margin_of_error_population\n",
    "print(ci_lower_population,ci_upper_population)"
   ]
  },
  {
   "cell_type": "code",
   "execution_count": null,
   "id": "56794ff3-9e3c-4735-a1b2-c2fb93b66a9c",
   "metadata": {},
   "outputs": [],
   "source": [
    "#here,we use the t-distribution because the sample size is small, and the population standard deviation is unknown."
   ]
  }
 ],
 "metadata": {
  "kernelspec": {
   "display_name": "Python 3 (ipykernel)",
   "language": "python",
   "name": "python3"
  },
  "language_info": {
   "codemirror_mode": {
    "name": "ipython",
    "version": 3
   },
   "file_extension": ".py",
   "mimetype": "text/x-python",
   "name": "python",
   "nbconvert_exporter": "python",
   "pygments_lexer": "ipython3",
   "version": "3.12.7"
  }
 },
 "nbformat": 4,
 "nbformat_minor": 5
}
